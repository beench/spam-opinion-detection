{
 "cells": [
  {
   "cell_type": "code",
   "execution_count": 1,
   "metadata": {},
   "outputs": [],
   "source": [
    "import pandas as pd\n",
    "import numpy as np\n",
    "import matplotlib.pyplot as plt\n",
    "%matplotlib inline\n",
    "from sklearn.cluster import KMeans  "
   ]
  },
  {
   "cell_type": "code",
   "execution_count": 2,
   "metadata": {},
   "outputs": [
    {
     "data": {
      "text/html": [
       "<div>\n",
       "<style scoped>\n",
       "    .dataframe tbody tr th:only-of-type {\n",
       "        vertical-align: middle;\n",
       "    }\n",
       "\n",
       "    .dataframe tbody tr th {\n",
       "        vertical-align: top;\n",
       "    }\n",
       "\n",
       "    .dataframe thead th {\n",
       "        text-align: right;\n",
       "    }\n",
       "</style>\n",
       "<table border=\"1\" class=\"dataframe\">\n",
       "  <thead>\n",
       "    <tr style=\"text-align: right;\">\n",
       "      <th></th>\n",
       "      <th>Unnamed: 0</th>\n",
       "      <th>reviewText</th>\n",
       "      <th>rating</th>\n",
       "      <th>summary</th>\n",
       "      <th>helpful</th>\n",
       "      <th>helped</th>\n",
       "      <th>unhelped</th>\n",
       "      <th>sumHelped</th>\n",
       "    </tr>\n",
       "  </thead>\n",
       "  <tbody>\n",
       "    <tr>\n",
       "      <th>0</th>\n",
       "      <td>0</td>\n",
       "      <td>We got this GPS for my husband who is an (OTR)...</td>\n",
       "      <td>5.0</td>\n",
       "      <td>Gotta have GPS!</td>\n",
       "      <td>[0, 0]</td>\n",
       "      <td>0</td>\n",
       "      <td>0</td>\n",
       "      <td>0</td>\n",
       "    </tr>\n",
       "    <tr>\n",
       "      <th>1</th>\n",
       "      <td>1</td>\n",
       "      <td>The cable is very wobbly and sometimes disconn...</td>\n",
       "      <td>2.0</td>\n",
       "      <td>Cheap proprietary scam</td>\n",
       "      <td>[0, 0]</td>\n",
       "      <td>0</td>\n",
       "      <td>0</td>\n",
       "      <td>0</td>\n",
       "    </tr>\n",
       "    <tr>\n",
       "      <th>2</th>\n",
       "      <td>2</td>\n",
       "      <td>It does 2A and charges a DEAD Nook in a few ho...</td>\n",
       "      <td>3.0</td>\n",
       "      <td>This is the oem charger you get with the nook hd+</td>\n",
       "      <td>[0, 0]</td>\n",
       "      <td>0</td>\n",
       "      <td>0</td>\n",
       "      <td>0</td>\n",
       "    </tr>\n",
       "    <tr>\n",
       "      <th>3</th>\n",
       "      <td>3</td>\n",
       "      <td>This adaptor is real easy to setup and use rig...</td>\n",
       "      <td>5.0</td>\n",
       "      <td>A Perfdect Nook HD+ hook up</td>\n",
       "      <td>[0, 0]</td>\n",
       "      <td>0</td>\n",
       "      <td>0</td>\n",
       "      <td>0</td>\n",
       "    </tr>\n",
       "    <tr>\n",
       "      <th>4</th>\n",
       "      <td>4</td>\n",
       "      <td>This adapter easily connects my Nook HD 7&amp;#34;...</td>\n",
       "      <td>4.0</td>\n",
       "      <td>A nice easy to use accessory.</td>\n",
       "      <td>[0, 0]</td>\n",
       "      <td>0</td>\n",
       "      <td>0</td>\n",
       "      <td>0</td>\n",
       "    </tr>\n",
       "  </tbody>\n",
       "</table>\n",
       "</div>"
      ],
      "text/plain": [
       "   Unnamed: 0                                         reviewText  rating  \\\n",
       "0           0  We got this GPS for my husband who is an (OTR)...     5.0   \n",
       "1           1  The cable is very wobbly and sometimes disconn...     2.0   \n",
       "2           2  It does 2A and charges a DEAD Nook in a few ho...     3.0   \n",
       "3           3  This adaptor is real easy to setup and use rig...     5.0   \n",
       "4           4  This adapter easily connects my Nook HD 7&#34;...     4.0   \n",
       "\n",
       "                                             summary helpful  helped  \\\n",
       "0                                    Gotta have GPS!  [0, 0]       0   \n",
       "1                             Cheap proprietary scam  [0, 0]       0   \n",
       "2  This is the oem charger you get with the nook hd+  [0, 0]       0   \n",
       "3                        A Perfdect Nook HD+ hook up  [0, 0]       0   \n",
       "4                      A nice easy to use accessory.  [0, 0]       0   \n",
       "\n",
       "   unhelped  sumHelped  \n",
       "0         0          0  \n",
       "1         0          0  \n",
       "2         0          0  \n",
       "3         0          0  \n",
       "4         0          0  "
      ]
     },
     "execution_count": 2,
     "metadata": {},
     "output_type": "execute_result"
    }
   ],
   "source": [
    "data = pd.read_csv('sum_data.csv')\n",
    "data.head()"
   ]
  },
  {
   "cell_type": "code",
   "execution_count": null,
   "metadata": {
    "scrolled": true
   },
   "outputs": [],
   "source": [
    "print(\"Helpful:\", data[data.sum_helped > 0].shape[0])\n",
    "print(\"Unhelpful:\", data[data.sum_helped < 0].shape[0])\n",
    "print(\"Normal:\", data[data.sum_helped == 0].shape[0])\n",
    "print(\"Ratio of unhelpful comment\", data[data.sum_helped < 0].shape[0]/data.shape[0])"
   ]
  },
  {
   "cell_type": "code",
   "execution_count": null,
   "metadata": {
    "scrolled": true
   },
   "outputs": [],
   "source": [
    "data = data.drop(data[(data.helped == 0) & (data.unhelped == 0)].index)\n",
    "data"
   ]
  },
  {
   "cell_type": "code",
   "execution_count": null,
   "metadata": {
    "scrolled": true
   },
   "outputs": [],
   "source": [
    "df = data.groupby(['reviwerID']).agg({'sum_helped': 'mean'})\n",
    "count = data.groupby(['reviwerID']).size().to_frame('count')\n",
    "df = pd.merge(df, count, on='reviwerID').reset_index()\n",
    "df.sort_values('count', ascending=False)"
   ]
  },
  {
   "cell_type": "code",
   "execution_count": null,
   "metadata": {
    "scrolled": true
   },
   "outputs": [],
   "source": [
    "df2 = df.sort_values('count', ascending=False)[:1000]\n",
    "df2"
   ]
  },
  {
   "cell_type": "code",
   "execution_count": null,
   "metadata": {},
   "outputs": [],
   "source": [
    "q1 = np.percentile(df2['sum_helped'],25)\n",
    "q3 = np.percentile(df2['sum_helped'],75)\n",
    "iqr = q3-q1\n",
    "df = df.drop(df[(df['sum_helped'] < (q1 - (1.5*iqr))) | (df['sum_helped'] > (q3 + (1.5*iqr)))].index)\n",
    "print(q1)\n",
    "print(q3)"
   ]
  },
  {
   "cell_type": "code",
   "execution_count": null,
   "metadata": {
    "scrolled": false
   },
   "outputs": [],
   "source": [
    "X = []\n",
    "for index, i in df2.iterrows():\n",
    "#     print(i)\n",
    "    arr = np.array([i['count'], i['sum_helped']])\n",
    "    X.append(arr)\n",
    "X = np.array(X)\n",
    "X\n"
   ]
  },
  {
   "cell_type": "code",
   "execution_count": null,
   "metadata": {},
   "outputs": [],
   "source": [
    "kmeans = KMeans(n_clusters=5)  \n",
    "kmeans.fit(X)  "
   ]
  },
  {
   "cell_type": "code",
   "execution_count": null,
   "metadata": {},
   "outputs": [],
   "source": [
    "centroids = kmeans.cluster_centers_\n",
    "print(kmeans.cluster_centers_)  "
   ]
  },
  {
   "cell_type": "code",
   "execution_count": null,
   "metadata": {
    "scrolled": true
   },
   "outputs": [],
   "source": [
    "fig,ax = plt.subplots()\n",
    "plt.xlabel('count')\n",
    "plt.ylabel('sum_helped')\n",
    "ax.scatter(X[:,0],X[:,1], c=kmeans.labels_, cmap='rainbow', s=3)  \n",
    "ax.scatter(centroids[:,0],centroids[:,1], marker = '*', c = '#050505' ,s=20)"
   ]
  },
  {
   "cell_type": "code",
   "execution_count": null,
   "metadata": {},
   "outputs": [],
   "source": []
  },
  {
   "cell_type": "code",
   "execution_count": null,
   "metadata": {},
   "outputs": [],
   "source": []
  }
 ],
 "metadata": {
  "kernelspec": {
   "display_name": "Python 3",
   "language": "python",
   "name": "python3"
  },
  "language_info": {
   "codemirror_mode": {
    "name": "ipython",
    "version": 3
   },
   "file_extension": ".py",
   "mimetype": "text/x-python",
   "name": "python",
   "nbconvert_exporter": "python",
   "pygments_lexer": "ipython3",
   "version": "3.6.5"
  }
 },
 "nbformat": 4,
 "nbformat_minor": 2
}
