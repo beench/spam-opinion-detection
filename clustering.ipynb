{
 "cells": [
  {
   "cell_type": "code",
   "execution_count": null,
   "metadata": {},
   "outputs": [],
   "source": [
    "import pandas as pd\n",
    "import numpy as np\n",
    "import matplotlib.pyplot as plt\n",
    "%matplotlib inline\n",
    "from sklearn.cluster import KMeans  "
   ]
  },
  {
   "cell_type": "code",
   "execution_count": null,
   "metadata": {},
   "outputs": [],
   "source": [
    "data = pd.read_csv('sum_data.csv')\n",
    "data.head()"
   ]
  },
  {
   "cell_type": "code",
   "execution_count": null,
   "metadata": {
    "scrolled": true
   },
   "outputs": [],
   "source": [
    "print(\"Helpful:\", data[data.sum_helped > 0].shape[0])\n",
    "print(\"Unhelpful:\", data[data.sum_helped < 0].shape[0])\n",
    "print(\"Normal:\", data[data.sum_helped == 0].shape[0])\n",
    "print(\"Ratio of unhelpful comment\", data[data.sum_helped < 0].shape[0]/data.shape[0])"
   ]
  },
  {
   "cell_type": "code",
   "execution_count": null,
   "metadata": {
    "scrolled": true
   },
   "outputs": [],
   "source": [
    "data = data.drop(data[(data.helped == 0) & (data.unhelped == 0)].index)\n",
    "data"
   ]
  },
  {
   "cell_type": "code",
   "execution_count": null,
   "metadata": {
    "scrolled": true
   },
   "outputs": [],
   "source": [
    "df = data.groupby(['reviwerID']).agg({'sum_helped': 'mean'})\n",
    "count = data.groupby(['reviwerID']).size().to_frame('count')\n",
    "df = pd.merge(df, count, on='reviwerID').reset_index()\n",
    "df.sort_values('count', ascending=False)"
   ]
  },
  {
   "cell_type": "code",
   "execution_count": null,
   "metadata": {
    "scrolled": true
   },
   "outputs": [],
   "source": [
    "df2 = df.sort_values('count', ascending=False)[:1000]\n",
    "df2"
   ]
  },
  {
   "cell_type": "code",
   "execution_count": null,
   "metadata": {},
   "outputs": [],
   "source": [
    "q1 = np.percentile(df2['sum_helped'],25)\n",
    "q3 = np.percentile(df2['sum_helped'],75)\n",
    "iqr = q3-q1\n",
    "df = df.drop(df[(df['sum_helped'] < (q1 - (1.5*iqr))) | (df['sum_helped'] > (q3 + (1.5*iqr)))].index)\n",
    "print(q1)\n",
    "print(q3)"
   ]
  },
  {
   "cell_type": "code",
   "execution_count": null,
   "metadata": {
    "scrolled": false
   },
   "outputs": [],
   "source": [
    "X = []\n",
    "for index, i in df2.iterrows():\n",
    "#     print(i)\n",
    "    arr = np.array([i['count'], i['sum_helped']])\n",
    "    X.append(arr)\n",
    "X = np.array(X)\n",
    "X\n"
   ]
  },
  {
   "cell_type": "code",
   "execution_count": null,
   "metadata": {},
   "outputs": [],
   "source": [
    "kmeans = KMeans(n_clusters=5)  \n",
    "kmeans.fit(X)  "
   ]
  },
  {
   "cell_type": "code",
   "execution_count": null,
   "metadata": {},
   "outputs": [],
   "source": [
    "centroids = kmeans.cluster_centers_\n",
    "print(kmeans.cluster_centers_)  "
   ]
  },
  {
   "cell_type": "code",
   "execution_count": null,
   "metadata": {
    "scrolled": true
   },
   "outputs": [],
   "source": [
    "fig,ax = plt.subplots()\n",
    "plt.xlabel('count')\n",
    "plt.ylabel('sum_helped')\n",
    "ax.scatter(X[:,0],X[:,1], c=kmeans.labels_, cmap='rainbow', s=3)  \n",
    "ax.scatter(centroids[:,0],centroids[:,1], marker = '*', c = '#050505' ,s=20)"
   ]
  },
  {
   "cell_type": "code",
   "execution_count": null,
   "metadata": {},
   "outputs": [],
   "source": []
  },
  {
   "cell_type": "code",
   "execution_count": null,
   "metadata": {},
   "outputs": [],
   "source": []
  }
 ],
 "metadata": {
  "kernelspec": {
   "display_name": "Python 3",
   "language": "python",
   "name": "python3"
  },
  "language_info": {
   "codemirror_mode": {
    "name": "ipython",
    "version": 3
   },
   "file_extension": ".py",
   "mimetype": "text/x-python",
   "name": "python",
   "nbconvert_exporter": "python",
   "pygments_lexer": "ipython3",
   "version": "3.6.5"
  }
 },
 "nbformat": 4,
 "nbformat_minor": 2
}
